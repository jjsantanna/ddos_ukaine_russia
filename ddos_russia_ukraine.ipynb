{
 "cells": [
  {
   "cell_type": "markdown",
   "id": "63798e72",
   "metadata": {},
   "source": [
    "# (D)DoS operations related to Russia and Ukraine 2022"
   ]
  },
  {
   "cell_type": "markdown",
   "id": "df19b715",
   "metadata": {},
   "source": [
    "The goal of this script is to automaticaly analyse (D)DoS attacks that are happening while Russia invates Ukraine in 2022. \n",
    "- https://stop-russian-desinformation.near.page/"
   ]
  },
  {
   "cell_type": "code",
   "execution_count": 3,
   "id": "2f196337",
   "metadata": {},
   "outputs": [],
   "source": [
    "import pandas as pd"
   ]
  },
  {
   "cell_type": "markdown",
   "id": "7a618e86",
   "metadata": {},
   "source": [
    "<h1 align='center'>================================================<br>================================================<br>\n",
    "Analysing: https://stop-russian-desinformation.near.page/</h1>"
   ]
  },
  {
   "cell_type": "markdown",
   "id": "ca4c3e6d",
   "metadata": {},
   "source": [
    "# Todo:\n",
    "- About\n",
    "- DNS resolve (domain to IP)\n",
    "- IP to ASN/location (IP to ASN)\n",
    "- Whois (Creation)\n",
    "- Alexa rank\n",
    "- Fetch page frequently (every 1h?)\n",
    "- Analyse the index.html (try to get the code of the attack AND a list of the targets)\n",
    "- Analyse the .pcap\n",
    "- Does the IP address of targets change?\n",
    "- Can we check the status of the pages (up or down)? Evaluate how effective is this #ops"
   ]
  },
  {
   "cell_type": "markdown",
   "id": "68256609",
   "metadata": {},
   "source": [
    "## About\n",
    "- https://stop-russian-desinformation.near.page/"
   ]
  },
  {
   "cell_type": "markdown",
   "id": "83edd9d0",
   "metadata": {},
   "source": [
    "## Fetching the index.html"
   ]
  },
  {
   "cell_type": "code",
   "execution_count": 87,
   "id": "e0d47e8a",
   "metadata": {},
   "outputs": [
    {
     "name": "stdout",
     "output_type": "stream",
     "text": [
      "The file index.html was already downloaded!\n"
     ]
    }
   ],
   "source": [
    "import os.path\n",
    "from os import path\n",
    "\n",
    "if path.exists(\"index.html\") == False:\n",
    "    !wget https://stop-russian-desinformation.near.page/\n",
    "else:\n",
    "    print(\"The file index.html was already downloaded!\")\n",
    " "
   ]
  },
  {
   "cell_type": "markdown",
   "id": "f4618634",
   "metadata": {},
   "source": [
    "## Reading the list of URL's from the index.html"
   ]
  },
  {
   "cell_type": "code",
   "execution_count": 88,
   "id": "8098b567",
   "metadata": {},
   "outputs": [],
   "source": [
    "df = pd.read_csv('index.html',sep ='\\n')\n",
    "df = df.rename({'<head>': 'urls'}, axis=1)"
   ]
  },
  {
   "cell_type": "code",
   "execution_count": 89,
   "id": "3f314496",
   "metadata": {},
   "outputs": [],
   "source": [
    "df = df[(df.loc[df['urls']==\"var targets = [\"].index[0]+1) : \n",
    "        (df.loc[df['urls']==\"]\"].index[0])].reset_index(drop=True)"
   ]
  },
  {
   "cell_type": "code",
   "execution_count": 90,
   "id": "eeeb79f9",
   "metadata": {},
   "outputs": [
    {
     "name": "stderr",
     "output_type": "stream",
     "text": [
      "<ipython-input-90-b79f56a08a97>:1: FutureWarning: The default value of regex will change from True to False in a future version.\n",
      "  df['urls'] = df['urls'].str.replace(\"'\",\"\").str.replace(\",\",\"\").str.replace(\"https://\",\"\").str.replace(\"http://\",\"\").str.replace(\"www.\",\"\").str.strip()\n"
     ]
    }
   ],
   "source": [
    "df['urls'] = df['urls'].str.replace(\"'\",\"\").str.replace(\",\",\"\").str.replace(\"https://\",\"\").str.replace(\"http://\",\"\").str.replace(\"www.\",\"\").str.strip()"
   ]
  },
  {
   "cell_type": "code",
   "execution_count": 91,
   "id": "fe7a5ada",
   "metadata": {},
   "outputs": [],
   "source": [
    "df['domainname'] = df['urls'].apply(lambda x: x.split('/')[0])"
   ]
  },
  {
   "cell_type": "code",
   "execution_count": 94,
   "id": "6b11bcae",
   "metadata": {},
   "outputs": [],
   "source": [
    "import socket\n",
    "\n",
    "def domain2ip (df_domains):\n",
    "    df_output = pd.DataFrame()\n",
    "    df_domains = df_domains.drop_duplicates()\n",
    "    for domain in df_domains:\n",
    "        print(domain)\n",
    "        try: \n",
    "            print(socket.gethostbyname(domain))\n",
    "        except:\n",
    "            print(\"PROBLEM!\")\n",
    "            \n",
    "    return df_output"
   ]
  },
  {
   "cell_type": "code",
   "execution_count": 95,
   "id": "ea2c5a72",
   "metadata": {
    "scrolled": false
   },
   "outputs": [
    {
     "name": "stdout",
     "output_type": "stream",
     "text": [
      "lenta.ru\n",
      "178.248.235.122\n",
      "ria.ru\n",
      "178.248.233.32\n",
      "rbc.ru\n",
      "178.248.234.119\n",
      "rt.com\n",
      "185.178.208.5\n",
      "kremlin.ru\n",
      "95.173.136.71\n",
      "en.kremlin.ru\n",
      "95.173.136.70\n",
      "smotrim.ru\n",
      "80.247.32.208\n",
      "tass.ru\n",
      "82.202.190.240\n",
      "tvzvezda.ru\n",
      "178.248.234.76\n",
      "vsoloviev.ru\n",
      "186.2.163.126\n",
      "1tv.ru\n",
      "178.248.233.188\n",
      "vesti.ru\n",
      "80.247.32.208\n",
      "online.sberbank.ru\n",
      "PROBLEM!\n",
      "sberbank.ru\n",
      "194.54.14.168\n",
      "zakupki.gov.ru\n",
      "95.167.245.92\n",
      "gosuslugi.ru\n",
      "109.207.1.118\n",
      "er.ru\n",
      "178.248.232.136\n",
      "rzd.ru\n",
      "212.164.138.123\n",
      "rzdlog.ru\n",
      "185.71.67.190\n",
      "vgtrk.ru\n",
      "80.247.32.208\n",
      "interfax.ru\n",
      "178.248.233.231\n",
      "mos.ru\n",
      "212.11.155.166\n",
      "government.ru\n",
      "95.173.136.163\n",
      "mil.ru\n",
      "82.202.190.92\n",
      "nalog.gov.ru\n",
      "81.176.70.2\n",
      "customs.gov.ru\n",
      "89.208.226.45\n",
      "pfr.gov.ru\n",
      "195.161.52.80\n",
      "rkn.gov.ru\n",
      "185.71.67.220\n",
      "gazprombank.ru\n",
      "82.202.190.10\n",
      "vtb.ru\n",
      "195.242.83.13\n",
      "gazprom.ru\n",
      "217.151.130.37\n",
      "lukoil.ru\n",
      "178.248.235.144\n",
      "magnit.ru\n",
      "193.19.171.166\n",
      "nornickel.com\n",
      "54.72.104.145\n",
      "surgutneftegas.ru\n",
      "185.71.67.89\n",
      "tatneft.ru\n",
      "185.117.144.192\n",
      "evraz.com\n",
      "185.169.155.169\n",
      "nlmk.com\n",
      "81.20.194.236\n",
      "sibur.ru\n",
      "178.248.232.145\n",
      "severstal.com\n",
      "45.60.197.182\n",
      "metalloinvest.com\n",
      "185.71.67.89\n",
      "nangs.org\n",
      "185.178.208.143\n",
      "rmk-group.ru\n",
      "172.67.6.185\n",
      "tmk-group.ru\n",
      "89.188.113.114\n",
      "yandex.ru\n",
      "5.255.255.55\n",
      "yandex.by\n",
      "5.255.255.55\n",
      "polymetalinternational.com\n",
      "54.72.104.145\n",
      "uralkali.com\n",
      "185.71.67.147\n",
      "eurosib.ru\n",
      "127.0.0.1\n",
      "omk.ru\n",
      "188.225.17.119\n",
      "mail.rkn.gov.ru\n",
      "87.226.213.149\n",
      "cloud.rkn.gov.ru\n",
      "87.226.213.155\n",
      "mvd.gov.ru\n",
      "82.202.189.118\n",
      "pwd.wto.economy.gov.ru\n",
      "212.203.66.44\n",
      "stroi.gov.ru\n",
      "185.241.192.37\n",
      "proverki.gov.ru\n",
      "185.183.174.89\n",
      "gazeta.ru\n",
      "81.19.72.3\n",
      "crimea.kp.ru\n",
      "178.248.233.143\n",
      "kommersant.ru\n",
      "185.147.37.190\n",
      "riafan.ru\n",
      "139.60.160.113\n",
      "mk.ru\n",
      "186.2.163.235\n",
      "api.sberbank.ru\n",
      "185.157.96.191\n",
      "vedomosti.ru\n",
      "188.124.39.36\n",
      "sputnik.by\n",
      "178.248.234.136\n"
     ]
    }
   ],
   "source": [
    "domain2ip (df['domainname'])"
   ]
  },
  {
   "cell_type": "code",
   "execution_count": 96,
   "id": "23a3f65b",
   "metadata": {},
   "outputs": [
    {
     "data": {
      "text/plain": [
       "'194.54.14.131'"
      ]
     },
     "execution_count": 96,
     "metadata": {},
     "output_type": "execute_result"
    }
   ],
   "source": [
    "socket.gethostbyname('online.sberbank.ru')"
   ]
  },
  {
   "cell_type": "markdown",
   "id": "121d07af",
   "metadata": {},
   "source": [
    "## Enriching IP to ASN"
   ]
  },
  {
   "cell_type": "code",
   "execution_count": 13,
   "id": "4fc7bdf1",
   "metadata": {},
   "outputs": [],
   "source": [
    "import subprocess\n",
    "import os.path\n",
    "import random\n",
    "import time\n",
    "impott pandas as pd\n",
    "\n",
    "def teamcymru_ip2asn (ip):\n",
    "    command = 'whois -h whois.cymru.com \" -v ' + ip + '\"'\n",
    "    output,error = subprocess.Popen(command, universal_newlines=True, shell=True, stdout=PIPE, stderr=PIPE).communicate()\n",
    "    return output\n",
    "\n",
    "\n",
    "def teamcymru_ip2asn_bulk(pandaseries_ips):\n",
    "    iptoasn_response = open('output_ip2asn_teamcymru.txt', 'w')\n",
    "\n",
    "    #Creating the request file containing a list of IPs\n",
    "    #For more information, please access: http://www.team-cymru.com/IP-ASN-mapping.html\n",
    "    iptoasn_request = open('input_ip2asn_teamcymru.txt', 'w')\n",
    "    iptoasn_request.write('begin\\nverbose\\n')\n",
    "    pd.Series(pandaseries_ips.dropna().unique()).to_csv(iptoasn_request,header=False,index=False,sep=\"\\t\") \n",
    "    iptoasn_request.write('end')\n",
    "    iptoasn_request.close()\n",
    "\n",
    "    #Performing the bulk request\n",
    "    cat = subprocess.Popen(['cat', 'input_ip2asn_teamcymru.txt'], stdout=subprocess.PIPE)\n",
    "    print(cat)\n",
    "    netcat = subprocess.Popen(['netcat', 'whois.cymru.com', '43'], stdin=cat.stdout, stdout=iptoasn_response)\n",
    "    print (netcat)\n",
    "    time.sleep(3) #for some reason the poll does not work! This was the way to overcome the waiting time.\n",
    "    #Closing the output file\n",
    "    iptoasn_response.close()\n",
    "\n",
    "    df = pd.read_csv('output_ip2asn_teamcymru.txt',\\\n",
    "                     skiprows=1,\\\n",
    "                     delimiter=\"\\s+\\|\\s\",\\\n",
    "                     names = ['asn', 'ip', 'bgp_prefix', 'country','registry','info_date','as_name'])\n",
    "\n",
    "    ### CAN BE USEFUL: \n",
    "    ###df['asn'] = df['asn'].astype(str).apply(lambda x: 'AS'+x.split('.')[0])\n",
    "    \n",
    "    !rm input_ip2asn_teamcymru.txt\n",
    "    !rm output_ip2asn_teamcymru.txt\n",
    "    \n",
    "    return df"
   ]
  }
 ],
 "metadata": {
  "kernelspec": {
   "display_name": "Python 3",
   "language": "python",
   "name": "python3"
  },
  "language_info": {
   "codemirror_mode": {
    "name": "ipython",
    "version": 3
   },
   "file_extension": ".py",
   "mimetype": "text/x-python",
   "name": "python",
   "nbconvert_exporter": "python",
   "pygments_lexer": "ipython3",
   "version": "3.9.10"
  }
 },
 "nbformat": 4,
 "nbformat_minor": 5
}
